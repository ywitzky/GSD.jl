{
 "cells": [
  {
   "cell_type": "code",
   "execution_count": 1,
   "metadata": {},
   "outputs": [],
   "source": [
    "using CBinding, Libdl#, Libc\n",
    "import Base: unsafe_convert, open"
   ]
  },
  {
   "cell_type": "code",
   "execution_count": 2,
   "metadata": {},
   "outputs": [
    {
     "data": {
      "text/plain": [
       "unsafe_convert (generic function with 81 methods)"
      ]
     },
     "metadata": {},
     "output_type": "display_data"
    }
   ],
   "source": [
    "unsafe_convert(::Type{Cptr{Nothing}}, _::Int64) =Cptr{Nothing}() ### assumption that this doesnt cause issues\n"
   ]
  },
  {
   "cell_type": "code",
   "execution_count": 3,
   "metadata": {},
   "outputs": [
    {
     "data": {
      "text/plain": [
       "@c\"GSD_USE_MMAP\" (macro with 1 method)"
      ]
     },
     "metadata": {},
     "output_type": "display_data"
    }
   ],
   "source": [
    "libpath= Libdl.find_library(\"libgsd.so\", vcat(Base.DL_LOAD_PATH, [\"/uni-mainz.de/homes/ywitzky/phdscripts/GSD/GSD_Julia/gsd/\"]) )\n",
    "const c\"int8_t\" = Int8\n",
    "const c\"int16_t\" = Int16\n",
    "const c\"int32_t\" = Int32\n",
    "const c\"int64_t\" = Int64\n",
    "const c\"uint8_t\" = UInt8\n",
    "const c\"uint16_t\" = UInt16\n",
    "const c\"uint32_t\" = UInt32\n",
    "const c\"uint64_t\" = UInt64\n",
    "\n",
    "const c\"size_t\" = Csize_t\n",
    "path=\"/uni-mainz.de/homes/ywitzky/phdscripts/GSD/GSD_Julia/gsd/\"\n",
    "c`-std=c17 -Wall -I$(path) -L$(path) -I$(path)gsd.c -L$(libpath) -llibgsd.so`\n",
    "# \n",
    "c\"\"\"\n",
    "#include \"/uni-mainz.de/homes/ywitzky/phdscripts/GSD/GSD_Julia/gsd/gsd.c\"\n",
    "#include \"/uni-mainz.de/homes/ywitzky/phdscripts/GSD/GSD_Julia/gsd/gsd.h\"\n",
    "\"\"\"j\n"
   ]
  },
  {
   "cell_type": "code",
   "execution_count": 4,
   "metadata": {},
   "outputs": [
    {
     "data": {
      "text/plain": [
       "unsafe_convert (generic function with 83 methods)"
      ]
     },
     "metadata": {},
     "output_type": "display_data"
    }
   ],
   "source": [
    "unsafe_convert(::Type{Cptr{Cconst{var\"c\\\"struct gsd_index_entry\\\"\"}}}, a::String) = begin println(a * \"test\"); return Cptr{Cconst{var\"c\\\"struct gsd_index_entry\\\"\"}}(pointer_from_objref(Ref(a))); end ### only for line 6something in gsd.c where he uses char* to define pointer position\n",
    "\n",
    "\n",
    "unsafe_convert(::Type{Cptr{var\"c\\\"struct gsd_handle\\\"\"}}, a::var\"(c\\\"struct gsd_handle\\\")\") = Cptr{var\"c\\\"struct gsd_handle\\\"\"}(pointer_from_objref(Ref(a)))\n"
   ]
  },
  {
   "cell_type": "code",
   "execution_count": 5,
   "metadata": {},
   "outputs": [],
   "source": [
    "#include(\"./libgsd.jl\")"
   ]
  },
  {
   "cell_type": "code",
   "execution_count": 6,
   "metadata": {},
   "outputs": [
    {
     "data": {
      "text/plain": [
       "open (generic function with 10 methods)"
      ]
     },
     "metadata": {},
     "output_type": "display_data"
    }
   ],
   "source": [
    "include(\"./gsd.jl\")"
   ]
  },
  {
   "cell_type": "code",
   "execution_count": 7,
   "metadata": {},
   "outputs": [
    {
     "data": {
      "text/plain": [
       "28"
      ]
     },
     "metadata": {},
     "output_type": "display_data"
    }
   ],
   "source": [
    "file = \"/localscratch/shortdumps.gsd\"\n",
    "length(file)"
   ]
  },
  {
   "cell_type": "code",
   "execution_count": 8,
   "metadata": {},
   "outputs": [
    {
     "data": {
      "text/plain": [
       "bla_open (generic function with 2 methods)"
      ]
     },
     "metadata": {},
     "output_type": "display_data"
    }
   ],
   "source": [
    "function  bla_open(name, mode=\"r\")\n",
    "    \"\"\"Open a hoomd schema GSD file.\n",
    "\n",
    "    The return value of `open` can be used as a context manager.\n",
    "\n",
    "    Args:\n",
    "        name (str): File name to open.\n",
    "        mode (str): File open mode.\n",
    "\n",
    "    Returns:\n",
    "        `HOOMDTrajectory` instance that accesses the file **name** with the\n",
    "        given **mode**.\n",
    "\n",
    "    Valid values for ``mode``:\n",
    "\n",
    "    +------------------+---------------------------------------------+\n",
    "    | mode             | description                                 |\n",
    "    +==================+=============================================+\n",
    "    | ``'r'``          | Open an existing file for reading.          |\n",
    "    +------------------+---------------------------------------------+\n",
    "    | ``'r+'``         | Open an existing file for reading and       |\n",
    "    |                  | writing.                                    |\n",
    "    +------------------+---------------------------------------------+\n",
    "    | ``'w'``          | Open a file for reading and writing.        |\n",
    "    |                  | Creates the file if needed, or overwrites   |\n",
    "    |                  | an existing file.                           |\n",
    "    +------------------+---------------------------------------------+\n",
    "    | ``'x'``          | Create a gsd file exclusively and opens it  |\n",
    "    |                  | for reading and writing.                    |\n",
    "    |                  | Raise :py:exc:`FileExistsError`             |\n",
    "    |                  | if it already exists.                       |\n",
    "    +------------------+---------------------------------------------+\n",
    "    | ``'a'``          | Open a file for reading and writing.        |\n",
    "    |                  | Creates the file if it doesn't exist.       |\n",
    "    +------------------+---------------------------------------------+\n",
    "\n",
    "    \"\"\"\n",
    "    #if fl is None:\n",
    "    #    raise RuntimeError(\"file layer module is not available\")\n",
    "    #if gsd is None:\n",
    "    #    raise RuntimeError(\"gsd module is not available\")\n",
    "\n",
    "    #gsdfileobj = fl.open(name=str(name),mode=mode, application=\"gsd.hoomd \" #+ gsd.version.version,schema=\"hoomd\",schema_version=[1, 4])\n",
    "    println(\"Asdfghj\")\n",
    "   # println( Meta.@lower gsdfileobj = open(String(name),mode; application=\"gsd.hoomd \", schema=\"hoomd\", schema_version=(1, 4)))\n",
    "\n",
    "    gsdfileobj = open(String(name),mode; application=\"gsd.hoomd \", schema=\"hoomd\", schema_version=(1, 4))\n",
    "    println(\"asdfgh\")\n",
    "    return gsdfileobj\n",
    "    #return HOOMDTrajectory(gsdfileobj)\n",
    "end"
   ]
  },
  {
   "cell_type": "markdown",
   "metadata": {},
   "source": [
    "### doesnt set read write flags, flags is always 0"
   ]
  },
  {
   "cell_type": "markdown",
   "metadata": {},
   "source": [
    "### order of variables matters somehow in ccalls probably because of Gsd_handle issues"
   ]
  },
  {
   "cell_type": "code",
   "execution_count": 9,
   "metadata": {},
   "outputs": [
    {
     "name": "stdout",
     "output_type": "stream",
     "text": [
      "errno 0\n"
     ]
    },
    {
     "name": "stdout",
     "output_type": "stream",
     "text": [
      "Asdfghj\n",
      "Bla\n",
      "2.b\n",
      "name /localscratch/shortdumps.gsd, cname: /localscratch/shortdumps.gsd\n",
      "2.b.1\n",
      "asdg\n"
     ]
    },
    {
     "name": "stdout",
     "output_type": "stream",
     "text": [
      "pre Main.libgsd.Gsd_handle(0, Main.libgsd.Gsd_header(0x65df65df65df65df, 0x0000000000000000, 0x0000000000000000, 0x0000000000000000, 0x0000000000000000, 0x00000000, 0x00000003, UInt8[0x00, 0x00, 0x00, 0x00, 0x00, 0x00, 0x00, 0x00, 0x00, 0x00, 0x00, 0x00, 0x00, 0x00, 0x00, 0x00, 0x00, 0x00, 0x00, 0x00, 0x00, 0x00, 0x00, 0x00, 0x00, 0x00, 0x00, 0x00, 0x00, 0x00, 0x00, 0x00, 0x00, 0x00, 0x00, 0x00, 0x00, 0x00, 0x00, 0x00, 0x00, 0x00, 0x00, 0x00, 0x00, 0x00, 0x00, 0x00, 0x00, 0x00, 0x00, 0x00, 0x00, 0x00, 0x00, 0x00, 0x00, 0x00, 0x00, 0x00, 0x00, 0x00, 0x00, 0x00], UInt8[0x00, 0x00, 0x00, 0x00, 0x00, 0x00, 0x00, 0x00, 0x00, 0x00, 0x00, 0x00, 0x00, 0x00, 0x00, 0x00, 0x00, 0x00, 0x00, 0x00, 0x00, 0x00, 0x00, 0x00, 0x00, 0x00, 0x00, 0x00, 0x00, 0x00, 0x00, 0x00, 0x00, 0x00, 0x00, 0x00, 0x00, 0x00, 0x00, 0x00, 0x00, 0x00, 0x00, 0x00, 0x00, 0x00, 0x00, 0x00, 0x00, 0x00, 0x00, 0x00, 0x00, 0x00, 0x00, 0x00, 0x00, 0x00, 0x00, 0x00, 0x00, 0x00, 0x00, 0x00], UInt8[0x00, 0x00, 0x00, 0x00, 0x00, 0x00, 0x00, 0x00, 0x00, 0x00, 0x00, 0x00, 0x00, 0x00, 0x00, 0x00, 0x00, 0x00, 0x00, 0x00, 0x00, 0x00, 0x00, 0x00, 0x00, 0x00, 0x00, 0x00, 0x00, 0x00, 0x00, 0x00, 0x00, 0x00, 0x00, 0x00, 0x00, 0x00, 0x00, 0x00, 0x00, 0x00, 0x00, 0x00, 0x00, 0x00, 0x00, 0x00, 0x00, 0x00, 0x00, 0x00, 0x00, 0x00, 0x00, 0x00, 0x00, 0x00, 0x00, 0x00, 0x00, 0x00, 0x00, 0x00, 0x00, 0x00, 0x00, 0x00, 0x00, 0x00, 0x00, 0x00, 0x00, 0x00, 0x00, 0x00, 0x00, 0x00, 0x00, 0x00]), Main.libgsd.Gsd_index_buffer(Ptr{Main.libgsd.Gsd_index_entry} @0x00007fa5ccc30a20, 0x0000000000000000, 0x0000000000000000, Ptr{Nothing} @0x00007ffdb64655d0, 0x0000000000000000), Main.libgsd.Gsd_index_buffer(Ptr{Main.libgsd.Gsd_index_entry} @0x00007fa5ccc30a30, 0x0000000000000000, 0x0000000000000000, Ptr{Nothing} @0x00007ffdb64655d0, 0x0000000000000000), Main.libgsd.Gsd_index_buffer(Ptr{Main.libgsd.Gsd_index_entry} @0x00007fa5ccc30a40, 0x0000000000000000, 0x0000000000000000, Ptr{Nothing} @0x00007ffdb64655d0, 0x0000000000000000), Main.libgsd.Gsd_index_buffer(Ptr{Main.libgsd.Gsd_index_entry} @0x00007fa5ccc30a50, 0x0000000000000000, 0x0000000000000000, Ptr{Nothing} @0x00007ffdb64655d0, 0x0000000000000000), Ptr{Main.libgsd.Gsd_namelist_entry} @0x00007fa5ccc30ab0, 0x0000000000000000, 0x0000000000000000, 0, Main.libgsd.GSD_OPEN_READWRITE, Main.libgsd.Gsd_name_id_map(Ptr{Nothing} @0x00007ffdb64655d0, 0x0000000000000000), 0x0000000000000000)\n"
     ]
    },
    {
     "name": "stdout",
     "output_type": "stream",
     "text": [
      "\n",
      "GSD_OPEN_READONLY\n"
     ]
    },
    {
     "name": "stdout",
     "output_type": "stream",
     "text": [
      "cname:  /localscratch/shortdumps.gsd  \n",
      "errno 0\n",
      "\n",
      "/localscratch/shortdumps.gsd\n"
     ]
    }
   ],
   "source": [
    "println(\"errno $(Libc.errno())\")\n",
    "\n",
    "gsdfileobj = bla_open(file)"
   ]
  },
  {
   "cell_type": "code",
   "execution_count": null,
   "metadata": {},
   "outputs": [],
   "source": [
    "i = Int32(20)\n",
    "\n",
    "@ccall libpath.test(i::Cint)::Cvoid"
   ]
  },
  {
   "cell_type": "code",
   "execution_count": null,
   "metadata": {},
   "outputs": [],
   "source": [
    "### export gsd_open_wrapper into add on codeunit\n",
    "\n",
    "#=\n",
    "int gsd_open_wrapper( int flags,  const char* fname, struct gsd_handle* handle){\n",
    "    if( (flags) == (int)GSD_OPEN_READWRITE)\n",
    "        return gsd_open(handle, fname, GSD_OPEN_READWRITE);\n",
    "    else if( (flags) == (int)GSD_OPEN_READONLY)\n",
    "        return gsd_open(handle, fname, GSD_OPEN_READONLY);\n",
    "    else if( (flags) == (int)GSD_OPEN_APPEND)\n",
    "        return gsd_open(handle, fname, GSD_OPEN_APPEND);\n",
    "    else{\n",
    "        printf(\"nothing matches\\n\", 1);\n",
    "        return GSD_ERROR_IO;\n",
    "    }\n",
    "\n",
    "}=#"
   ]
  },
  {
   "cell_type": "code",
   "execution_count": null,
   "metadata": {},
   "outputs": [],
   "source": [
    "using Pkg\n",
    "Pkg.add(\"Debugger\")"
   ]
  },
  {
   "cell_type": "code",
   "execution_count": null,
   "metadata": {},
   "outputs": [],
   "source": [
    "using Debugger"
   ]
  },
  {
   "cell_type": "code",
   "execution_count": null,
   "metadata": {},
   "outputs": [],
   "source": [
    "header = c\"struct gsd_header\"(magic = 1)\n",
    "\n",
    "println(header.magic)\n",
    "\n",
    "gsd_handle_var = gsd_handle(fd = 0 )#, header=gsd_header(), file_index=gsd_index_buffer(), frame_index=gsd_index_buffer(), buffer_index=gsd_index_buffer(), write_buffer=gsd_byte_buffer(), file_names=gsd_name_buffer(), frame_names=gsd_name_buffer(), cur_frame=0, file_size=0, open_flags=1, name_map=gsd_name_id_map(), pending_index_entries=0,maximum_write_buffer_size=0,  index_entries_to_buffer=0)\n",
    "#gsd_handle2 = c\"struct gsd_handle * \"(); #(fd = 0)\n",
    "bla = [gsd_handle_var]\n",
    "#ptr_gsd = Libc.malloc(gsd_handle);\n",
    "#println(gsd_handle)\n",
    "#c\"gsd_read_chunk\"([gsd_handle], Cint(0),\"configuration/dimensions\")\n",
    "#println(gsd_handle_var)\n",
    "#ptr  = c\"struct gsd_handle * \" gsd_handle_var\n",
    "#retval = gsd_read_chunk(bla, 0,\"configuration/dimensions\")\n",
    "#bla = (gsd_handle_var)\n",
    "#println(typeof(bla))\n",
    "# pointer_from_objref(Ref(gsd_handle_var))\n",
    "\n",
    "\n",
    "#convert(::Type{Cptr{typof(gsd_handle_var)}}, x) = Ref(x)\n",
    "\n",
    "\n",
    "retval = gsd_read_chunk(pointer_from_objref(Ref(gsd_handle_var)), 0,\"configuration/dimensions\")\n",
    "#c\"gsd_read_chunk\"(gsd_handle2, Cint(0),\"configuration/dimensions\")\n",
    "\n",
    "version =gsd_make_version(UInt32(1),UInt32(4))\n",
    "retval = gsd_create(\"./test_here.gsd\", \"hoomd\", \"hoomd\", version)\n",
    "println(retval)\n",
    "#println(gsd_handle_var)\n",
    "\n",
    "obj=gsd_handle()\n",
    "flag = GSD_OPEN_READONLY\n",
    "\n",
    "file = \"/localscratch/HPS_DATA/HPS-Janka/RS31a/run1/MDhnRNPA1seqRS31a_M250_NP1_T300_Box40_40_40_s1000000000.gsd\"\n",
    "#println(gsd_create_and_open(obj, file, \"application\", \"schema\", UInt32(1), flag, Int32(1)))\n",
    "\n",
    "#println(flag)\n",
    "#println(gsd_close(obj))\n",
    "retval =  gsd_open(obj, file, flag)\n",
    "println(\"retval $retval\")\n",
    "\n",
    "println(\"\")\n",
    "println(obj)\n",
    "#println(typeof(new_handle))\n",
    "#obj=gsd_handle()\n",
    "\n",
    "\n",
    "#from fl.pyx : read_chunk\n",
    "#index_entry = gsd_index_entry()\n",
    "index_entry = gsd_find_chunk(pointer_from_objref(Ref(obj)),1,\"configuration/dimensions\" )#dimensons\n",
    "println(obj.fd)\n",
    "println(\"index entry\")\n",
    "println(index_entry)\n",
    "println(index_entry.type)\n",
    "println(GSD_TYPE_UINT8)\n",
    "println(UInt8(index_entry.type)   , \" \", UInt8(c\"GSD_TYPE_UINT8\"))\n",
    "println(UInt8(index_entry.type) >>> 4 == UInt8(c\"GSD_TYPE_UINT8\"))\n",
    "\n",
    "println(index_entry.N, \"  \", index_entry.M)\n",
    "println(UInt64(index_entry.N))\n",
    "println(UInt64((index_entry.M)))\n",
    "println(\"asdh\")\n",
    "println(gsd_sizeof_type(c\"enum gsd_type\"(4)))\n",
    "\n",
    "data=zeros(Float64 , (UInt64(index_entry.N), UInt32(index_entry.M)))\n",
    "data_ptr = pointer_from_objref(Ref(data))\n",
    "retval = gsd_read_chunk(pointer_from_objref(Ref(obj)), data_ptr, pointer_from_objref(Ref(index_entry)))\n",
    "\n",
    "println(\"\\nretval:\")\n",
    "println(retval)\n",
    "println(data)"
   ]
  },
  {
   "cell_type": "code",
   "execution_count": null,
   "metadata": {},
   "outputs": [],
   "source": []
  }
 ],
 "metadata": {
  "kernelspec": {
   "display_name": "Julia 1.9.3",
   "language": "julia",
   "name": "julia-1.9"
  },
  "language_info": {
   "file_extension": ".jl",
   "mimetype": "application/julia",
   "name": "julia",
   "version": "1.9.3"
  }
 },
 "nbformat": 4,
 "nbformat_minor": 2
}
